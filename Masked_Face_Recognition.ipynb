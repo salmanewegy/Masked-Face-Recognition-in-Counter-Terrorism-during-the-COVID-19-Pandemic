{
  "nbformat": 4,
  "nbformat_minor": 0,
  "metadata": {
    "kernelspec": {
      "language": "python",
      "display_name": "Python 3",
      "name": "python3"
    },
    "language_info": {
      "name": "python",
      "version": "3.7.10",
      "mimetype": "text/x-python",
      "codemirror_mode": {
        "name": "ipython",
        "version": 3
      },
      "pygments_lexer": "ipython3",
      "nbconvert_exporter": "python",
      "file_extension": ".py"
    },
    "colab": {
      "name": "Masked Face Recognition ",
      "provenance": []
    }
  },
  "cells": [
    {
      "cell_type": "code",
      "metadata": {
        "id": "CkGbHMzn2wxx",
        "execution": {
          "iopub.status.busy": "2021-11-19T10:40:54.749646Z",
          "iopub.execute_input": "2021-11-19T10:40:54.750549Z",
          "iopub.status.idle": "2021-11-19T10:41:00.496537Z",
          "shell.execute_reply.started": "2021-11-19T10:40:54.750423Z",
          "shell.execute_reply": "2021-11-19T10:41:00.495577Z"
        },
        "trusted": true
      },
      "source": [
        "import numpy as np \n",
        "import pandas as pd \n",
        "import matplotlib.pyplot as plt \n",
        "import seaborn as sns\n",
        "%matplotlib inline \n",
        "\n",
        "import cv2\n",
        "import tensorflow as tf\n",
        "from tensorflow import keras\n",
        "import os\n",
        "from keras import applications"
      ],
      "execution_count": 1,
      "outputs": []
    },
    {
      "cell_type": "code",
      "metadata": {
        "colab": {
          "base_uri": "https://localhost:8080/"
        },
        "id": "9Nlb0FFn1aq3",
        "outputId": "3b9e0b82-4982-4fab-ad39-25a1b82ac50f"
      },
      "source": [
        "!unzip /content/MaskedDataset.zip"
      ],
      "execution_count": 2,
      "outputs": [
        {
          "output_type": "stream",
          "name": "stdout",
          "text": [
            "Archive:  /content/MaskedDataset.zip\n",
            "   creating: MaskedDataset/\n",
            "   creating: MaskedDataset/test/\n",
            "   creating: MaskedDataset/test/Abdallah Shehata/\n",
            "  inflating: MaskedDataset/test/Abdallah Shehata/IMG_3385.HEIC  \n",
            "  inflating: MaskedDataset/test/Abdallah Shehata/IMG_5344.jpg  \n",
            "  inflating: MaskedDataset/test/Abdallah Shehata/IMG_5754.HEIC  \n",
            "   creating: MaskedDataset/test/Ahmed Roshdi/\n",
            "  inflating: MaskedDataset/test/Ahmed Roshdi/WhatsApp Image 2021-12-22 at 6.34.03 PM (2).jpeg  \n",
            "  inflating: MaskedDataset/test/Ahmed Roshdi/WhatsApp Image 2021-12-22 at 6.34.03 PM.jpeg  \n",
            "  inflating: MaskedDataset/test/Ahmed Roshdi/WhatsApp Image 2021-12-22 at 6.34.04 PM.jpeg  \n",
            "   creating: MaskedDataset/test/Joe/\n",
            "  inflating: MaskedDataset/test/Joe/WhatsApp Image 2021-12-24 at 5.44.26 PM.jpeg  \n",
            "  inflating: MaskedDataset/test/Joe/WhatsApp Image 2021-12-24 at 5.44.27 PM (1).jpeg  \n",
            "  inflating: MaskedDataset/test/Joe/WhatsApp Image 2021-12-24 at 5.44.29 PM.jpeg  \n",
            "   creating: MaskedDataset/test/Mostafa Mohamed/\n",
            "  inflating: MaskedDataset/test/Mostafa Mohamed/WhatsApp Image 2021-12-23 at 9.20.37 PM.jpeg  \n",
            "  inflating: MaskedDataset/test/Mostafa Mohamed/WhatsApp Image 2021-12-23 at 9.36.26 PM.jpeg  \n",
            "  inflating: MaskedDataset/test/Mostafa Mohamed/WhatsApp Image 2021-12-23 at 9.36.28 PM.jpeg  \n",
            "   creating: MaskedDataset/test/Omar Hisham/\n",
            "  inflating: MaskedDataset/test/Omar Hisham/WhatsApp Image 2021-12-22 at 7.00.10 PM.jpeg  \n",
            "  inflating: MaskedDataset/test/Omar Hisham/WhatsApp Image 2021-12-22 at 7.02.44 PM.jpeg  \n",
            "  inflating: MaskedDataset/test/Omar Hisham/WhatsApp Image 2021-12-22 at 7.02.46 PM.jpeg  \n",
            "   creating: MaskedDataset/test/Salma Fawzy/\n",
            "  inflating: MaskedDataset/test/Salma Fawzy/WhatsApp Image 2021-12-23 at 11.24.57 AM (2).jpeg  \n",
            "  inflating: MaskedDataset/test/Salma Fawzy/WhatsApp Image 2021-12-23 at 11.24.57 AM (3).jpeg  \n",
            "  inflating: MaskedDataset/test/Salma Fawzy/WhatsApp Image 2021-12-23 at 11.24.57 AM (4).jpeg  \n",
            "   creating: MaskedDataset/test/Salma Rabie/\n",
            "  inflating: MaskedDataset/test/Salma Rabie/WhatsApp Image 2021-12-23 at 7.51.00 PM (1).jpeg  \n",
            "  inflating: MaskedDataset/test/Salma Rabie/WhatsApp Image 2021-12-23 at 7.51.00 PM.jpeg  \n",
            "  inflating: MaskedDataset/test/Salma Rabie/WhatsApp Image 2021-12-23 at 7.51.01 PM.jpeg  \n",
            "   creating: MaskedDataset/train/\n",
            "   creating: MaskedDataset/train/Abdallah Shehata/\n",
            "  inflating: MaskedDataset/train/Abdallah Shehata/A2A50B20-272E-43D6-87DE-45D0A319140F.jpg  \n",
            "  inflating: MaskedDataset/train/Abdallah Shehata/da614eda-b2d5-4dc8-9d37-b409f8c236c1.jpg  \n",
            "  inflating: MaskedDataset/train/Abdallah Shehata/IMG_2874.JPG  \n",
            "  inflating: MaskedDataset/train/Abdallah Shehata/IMG_2988.HEIC  \n",
            "  inflating: MaskedDataset/train/Abdallah Shehata/IMG_3081.heic  \n",
            "  inflating: MaskedDataset/train/Abdallah Shehata/IMG_5927.heic  \n",
            "  inflating: MaskedDataset/train/Abdallah Shehata/IMG_6355.JPG  \n",
            "   creating: MaskedDataset/train/Ahmed Roshdi/\n",
            "  inflating: MaskedDataset/train/Ahmed Roshdi/WhatsApp Image 2021-12-22 at 6.33.46 PM.jpeg  \n",
            "  inflating: MaskedDataset/train/Ahmed Roshdi/WhatsApp Image 2021-12-22 at 6.33.52 PM.jpeg  \n",
            "  inflating: MaskedDataset/train/Ahmed Roshdi/WhatsApp Image 2021-12-22 at 6.34.00 PM.jpeg  \n",
            "  inflating: MaskedDataset/train/Ahmed Roshdi/WhatsApp Image 2021-12-22 at 6.34.01 PM (1).jpeg  \n",
            "  inflating: MaskedDataset/train/Ahmed Roshdi/WhatsApp Image 2021-12-22 at 6.34.02 PM (1).jpeg  \n",
            "  inflating: MaskedDataset/train/Ahmed Roshdi/WhatsApp Image 2021-12-22 at 6.34.02 PM.jpeg  \n",
            "  inflating: MaskedDataset/train/Ahmed Roshdi/WhatsApp Image 2021-12-22 at 6.34.03 PM (1).jpeg  \n",
            "   creating: MaskedDataset/train/Joe/\n",
            "  inflating: MaskedDataset/train/Joe/WhatsApp Image 2021-12-24 at 5.44.20 PM.jpeg  \n",
            "  inflating: MaskedDataset/train/Joe/WhatsApp Image 2021-12-24 at 5.44.22 PM (1).jpeg  \n",
            "  inflating: MaskedDataset/train/Joe/WhatsApp Image 2021-12-24 at 5.44.22 PM.jpeg  \n",
            "  inflating: MaskedDataset/train/Joe/WhatsApp Image 2021-12-24 at 5.44.23 PM.jpeg  \n",
            "  inflating: MaskedDataset/train/Joe/WhatsApp Image 2021-12-24 at 5.44.25 PM (1).jpeg  \n",
            "  inflating: MaskedDataset/train/Joe/WhatsApp Image 2021-12-24 at 5.44.25 PM (2).jpeg  \n",
            "  inflating: MaskedDataset/train/Joe/WhatsApp Image 2021-12-24 at 5.44.25 PM.jpeg  \n",
            "  inflating: MaskedDataset/train/Joe/WhatsApp Image 2021-12-24 at 5.44.26 PM.jpeg  \n",
            "  inflating: MaskedDataset/train/Joe/WhatsApp Image 2021-12-24 at 5.44.27 PM (1).jpeg  \n",
            "  inflating: MaskedDataset/train/Joe/WhatsApp Image 2021-12-24 at 5.44.29 PM.jpeg  \n",
            "   creating: MaskedDataset/train/Mostafa Mohamed/\n",
            "  inflating: MaskedDataset/train/Mostafa Mohamed/WhatsApp Image 2021-12-23 at 9.19.57 PM.jpeg  \n",
            "  inflating: MaskedDataset/train/Mostafa Mohamed/WhatsApp Image 2021-12-23 at 9.19.58 PM (1).jpeg  \n",
            "  inflating: MaskedDataset/train/Mostafa Mohamed/WhatsApp Image 2021-12-23 at 9.19.58 PM (2).jpeg  \n",
            "  inflating: MaskedDataset/train/Mostafa Mohamed/WhatsApp Image 2021-12-23 at 9.20.36 PM.jpeg  \n",
            "  inflating: MaskedDataset/train/Mostafa Mohamed/WhatsApp Image 2021-12-23 at 9.20.37 PM (1).jpeg  \n",
            "  inflating: MaskedDataset/train/Mostafa Mohamed/WhatsApp Image 2021-12-23 at 9.20.37 PM (2).jpeg  \n",
            "  inflating: MaskedDataset/train/Mostafa Mohamed/WhatsApp Image 2021-12-23 at 9.20.37 PM (3).jpeg  \n",
            "   creating: MaskedDataset/train/Omar Hisham/\n",
            "  inflating: MaskedDataset/train/Omar Hisham/WhatsApp Image 2021-12-22 at 4.58.38 PM.jpeg  \n",
            "  inflating: MaskedDataset/train/Omar Hisham/WhatsApp Image 2021-12-22 at 4.58.40 PM (1).jpeg  \n",
            "  inflating: MaskedDataset/train/Omar Hisham/WhatsApp Image 2021-12-22 at 4.58.40 PM.jpeg  \n",
            "  inflating: MaskedDataset/train/Omar Hisham/WhatsApp Image 2021-12-22 at 7.00.06 PM.jpeg  \n",
            "  inflating: MaskedDataset/train/Omar Hisham/WhatsApp Image 2021-12-22 at 7.00.08 PM (1).jpeg  \n",
            "  inflating: MaskedDataset/train/Omar Hisham/WhatsApp Image 2021-12-22 at 7.00.08 PM.jpeg  \n",
            "  inflating: MaskedDataset/train/Omar Hisham/WhatsApp Image 2021-12-22 at 7.00.09 PM (1).jpeg  \n",
            "   creating: MaskedDataset/train/Salma Fawzy/\n",
            "  inflating: MaskedDataset/train/Salma Fawzy/WhatsApp Image 2021-07-11 at 9.24.07 PM.jpeg  \n",
            "  inflating: MaskedDataset/train/Salma Fawzy/WhatsApp Image 2021-07-18 at 2.53.24 PM.jpeg  \n",
            "  inflating: MaskedDataset/train/Salma Fawzy/WhatsApp Image 2021-12-23 at 11.24.56 AM (1).jpeg  \n",
            "  inflating: MaskedDataset/train/Salma Fawzy/WhatsApp Image 2021-12-23 at 11.24.56 AM (2).jpeg  \n",
            "  inflating: MaskedDataset/train/Salma Fawzy/WhatsApp Image 2021-12-23 at 11.24.56 AM (4).jpeg  \n",
            "  inflating: MaskedDataset/train/Salma Fawzy/WhatsApp Image 2021-12-23 at 11.24.56 AM (5).jpeg  \n",
            "  inflating: MaskedDataset/train/Salma Fawzy/WhatsApp Image 2021-12-23 at 11.24.56 AM.jpeg  \n",
            "   creating: MaskedDataset/train/Salma Rabie/\n",
            "  inflating: MaskedDataset/train/Salma Rabie/WhatsApp Image 2021-12-23 at 7.50.55 PM.jpeg  \n",
            "  inflating: MaskedDataset/train/Salma Rabie/WhatsApp Image 2021-12-23 at 7.50.56 PM.jpeg  \n",
            "  inflating: MaskedDataset/train/Salma Rabie/WhatsApp Image 2021-12-23 at 7.50.57 PM (1).jpeg  \n",
            "  inflating: MaskedDataset/train/Salma Rabie/WhatsApp Image 2021-12-23 at 7.50.57 PM.jpeg  \n",
            "  inflating: MaskedDataset/train/Salma Rabie/WhatsApp Image 2021-12-23 at 7.50.58 PM (1).jpeg  \n",
            "  inflating: MaskedDataset/train/Salma Rabie/WhatsApp Image 2021-12-23 at 7.50.58 PM.jpeg  \n",
            "  inflating: MaskedDataset/train/Salma Rabie/WhatsApp Image 2021-12-23 at 7.50.59 PM.jpeg  \n"
          ]
        }
      ]
    },
    {
      "cell_type": "code",
      "metadata": {
        "id": "C9W2QP1CVW8j",
        "execution": {
          "iopub.status.busy": "2021-11-19T10:41:02.353975Z",
          "iopub.execute_input": "2021-11-19T10:41:02.354741Z",
          "iopub.status.idle": "2021-11-19T10:41:02.874455Z",
          "shell.execute_reply.started": "2021-11-19T10:41:02.354695Z",
          "shell.execute_reply": "2021-11-19T10:41:02.873567Z"
        },
        "trusted": true
      },
      "source": [
        "#from keras.preprocessing.image import ImageDataGenerator\n",
        "#img_gen = ImageDataGenerator(rescale=1./255) # assign a image generator\n",
        "\n",
        "#training_set = img_gen.flow_from_directory(directory='../input/ants-bees/hymenoptera_data/train', target_size=(224,224), \n",
        "#                                           classes=['ants', 'bees'], batch_size=10)\n",
        "#test_set = img_gen.flow_from_directory(directory= '../input/ants-bees/hymenoptera_data/val', target_size=(224,224), classes=['ants', 'bees'], \n",
        "#                                       batch_size=10, shuffle=False)"
      ],
      "execution_count": null,
      "outputs": []
    },
    {
      "cell_type": "code",
      "metadata": {
        "id": "9xjJU0fiIYwO",
        "execution": {
          "iopub.status.busy": "2021-11-19T10:44:39.370557Z",
          "iopub.execute_input": "2021-11-19T10:44:39.370866Z",
          "iopub.status.idle": "2021-11-19T10:44:39.382426Z",
          "shell.execute_reply.started": "2021-11-19T10:44:39.370832Z",
          "shell.execute_reply": "2021-11-19T10:44:39.381471Z"
        },
        "trusted": true
      },
      "source": [
        "NUM_CLASSES = 7\n",
        "\n",
        "CHANNELS = 3\n",
        "\n",
        "IMAGE_RESIZE = 128\n",
        "RESNET50_POOLING_AVERAGE = 'avg'\n",
        "DENSE_LAYER_ACTIVATION = 'softmax'\n",
        "OBJECTIVE_FUNCTION = 'categorical_crossentropy'\n",
        "\n",
        "# Common accuracy metric for all outputs, but can use different metrics for different output\n",
        "LOSS_METRICS = ['accuracy']\n",
        "\n",
        "# EARLY_STOP_PATIENCE must be < NUM_EPOCHS\n",
        "NUM_EPOCHS = 20\n",
        "EARLY_STOP_PATIENCE = 3\n",
        "\n",
        "\n",
        "BATCH_SIZE_TRAINING = 10\n",
        "BATCH_SIZE_VALIDATION = 10\n",
        "\n",
        "# Using 1 to easily manage mapping between test_generator & prediction for submission preparation\n",
        "BATCH_SIZE_TESTING = 1"
      ],
      "execution_count": 49,
      "outputs": []
    },
    {
      "cell_type": "code",
      "metadata": {
        "id": "VuVyiQfSIYyb",
        "execution": {
          "iopub.status.busy": "2021-11-19T10:41:04.729648Z",
          "iopub.execute_input": "2021-11-19T10:41:04.730309Z",
          "iopub.status.idle": "2021-11-19T10:41:04.736873Z",
          "shell.execute_reply.started": "2021-11-19T10:41:04.730276Z",
          "shell.execute_reply": "2021-11-19T10:41:04.736120Z"
        },
        "trusted": true
      },
      "source": [
        "from tensorflow.keras.models import Sequential\n",
        "from tensorflow.keras.layers import Dense, Dropout, Activation, Flatten , GlobalAveragePooling2D , Conv2D, MaxPooling2D, ZeroPadding2D \n",
        "#from tensorflow.keras.applications.resnet import ResNet50\n",
        "from keras.applications import vgg16\n",
        "from keras.models import Model\n",
        "from tensorflow.keras.layers import BatchNormalization\n",
        "\n"
      ],
      "execution_count": 50,
      "outputs": []
    },
    {
      "cell_type": "code",
      "metadata": {
        "id": "s9S81jRaIY0n",
        "execution": {
          "iopub.status.busy": "2021-11-19T10:41:05.628184Z",
          "iopub.execute_input": "2021-11-19T10:41:05.628754Z",
          "iopub.status.idle": "2021-11-19T10:41:10.348885Z",
          "shell.execute_reply.started": "2021-11-19T10:41:05.628715Z",
          "shell.execute_reply": "2021-11-19T10:41:10.348149Z"
        },
        "trusted": true
      },
      "source": [
        "#resnet = ResNet50(\n",
        " #   weights='imagenet',\n",
        "  #  include_top=False,\n",
        "#  input_shape=(224,224,3)\n",
        "#)\n",
        "\n",
        "img_rows, img_cols = 224, 224\n",
        "model = vgg16.VGG16(weights = 'imagenet', include_top=False,\n",
        "input_shape = (img_rows, img_cols, 3))\n",
        "\n"
      ],
      "execution_count": 51,
      "outputs": []
    },
    {
      "cell_type": "code",
      "source": [
        "#Freeze the VGG16 layers\n",
        "for layer in model.layers: \n",
        "  layer.trainable = False\n"
      ],
      "metadata": {
        "id": "Vt3o6-iDPQ86"
      },
      "execution_count": 52,
      "outputs": []
    },
    {
      "cell_type": "code",
      "metadata": {
        "execution": {
          "iopub.status.busy": "2021-11-19T10:41:10.351418Z",
          "iopub.execute_input": "2021-11-19T10:41:10.351947Z",
          "iopub.status.idle": "2021-11-19T10:41:10.440541Z",
          "shell.execute_reply.started": "2021-11-19T10:41:10.351908Z",
          "shell.execute_reply": "2021-11-19T10:41:10.439802Z"
        },
        "trusted": true,
        "id": "-Fp8UAc21MmU",
        "colab": {
          "base_uri": "https://localhost:8080/"
        },
        "outputId": "05c26ff8-9db8-463c-a0d4-5f4d5bd75aee"
      },
      "source": [
        "model.summary()"
      ],
      "execution_count": 53,
      "outputs": [
        {
          "output_type": "stream",
          "name": "stdout",
          "text": [
            "Model: \"vgg16\"\n",
            "_________________________________________________________________\n",
            " Layer (type)                Output Shape              Param #   \n",
            "=================================================================\n",
            " input_5 (InputLayer)        [(None, 224, 224, 3)]     0         \n",
            "                                                                 \n",
            " block1_conv1 (Conv2D)       (None, 224, 224, 64)      1792      \n",
            "                                                                 \n",
            " block1_conv2 (Conv2D)       (None, 224, 224, 64)      36928     \n",
            "                                                                 \n",
            " block1_pool (MaxPooling2D)  (None, 112, 112, 64)      0         \n",
            "                                                                 \n",
            " block2_conv1 (Conv2D)       (None, 112, 112, 128)     73856     \n",
            "                                                                 \n",
            " block2_conv2 (Conv2D)       (None, 112, 112, 128)     147584    \n",
            "                                                                 \n",
            " block2_pool (MaxPooling2D)  (None, 56, 56, 128)       0         \n",
            "                                                                 \n",
            " block3_conv1 (Conv2D)       (None, 56, 56, 256)       295168    \n",
            "                                                                 \n",
            " block3_conv2 (Conv2D)       (None, 56, 56, 256)       590080    \n",
            "                                                                 \n",
            " block3_conv3 (Conv2D)       (None, 56, 56, 256)       590080    \n",
            "                                                                 \n",
            " block3_pool (MaxPooling2D)  (None, 28, 28, 256)       0         \n",
            "                                                                 \n",
            " block4_conv1 (Conv2D)       (None, 28, 28, 512)       1180160   \n",
            "                                                                 \n",
            " block4_conv2 (Conv2D)       (None, 28, 28, 512)       2359808   \n",
            "                                                                 \n",
            " block4_conv3 (Conv2D)       (None, 28, 28, 512)       2359808   \n",
            "                                                                 \n",
            " block4_pool (MaxPooling2D)  (None, 14, 14, 512)       0         \n",
            "                                                                 \n",
            " block5_conv1 (Conv2D)       (None, 14, 14, 512)       2359808   \n",
            "                                                                 \n",
            " block5_conv2 (Conv2D)       (None, 14, 14, 512)       2359808   \n",
            "                                                                 \n",
            " block5_conv3 (Conv2D)       (None, 14, 14, 512)       2359808   \n",
            "                                                                 \n",
            " block5_pool (MaxPooling2D)  (None, 7, 7, 512)         0         \n",
            "                                                                 \n",
            "=================================================================\n",
            "Total params: 14,714,688\n",
            "Trainable params: 0\n",
            "Non-trainable params: 14,714,688\n",
            "_________________________________________________________________\n"
          ]
        }
      ]
    },
    {
      "cell_type": "code",
      "metadata": {
        "id": "VMHMSFboIY2p",
        "execution": {
          "iopub.status.busy": "2021-11-19T10:44:47.950102Z",
          "iopub.execute_input": "2021-11-19T10:44:47.950400Z",
          "iopub.status.idle": "2021-11-19T10:44:48.349495Z",
          "shell.execute_reply.started": "2021-11-19T10:44:47.950364Z",
          "shell.execute_reply": "2021-11-19T10:44:48.348765Z"
        },
        "trusted": true
      },
      "source": [
        "import tensorflow\n",
        "#model = Sequential()\n",
        "#model.add(resnet)\n",
        "#model.add(tensorflow.keras.layers.GlobalAveragePooling2D())\n",
        "#model.add(tensorflow.keras.layers.Dropout(0.5))\n",
        "#model.add(tensorflow.keras.layers.BatchNormalization())\n",
        "#model.add(tensorflow.keras.layers.Dense(2, activation='softmax'))\n",
        "\n",
        "\n",
        "def layer_adder(bottom_model, num_classes):\n",
        "  top_model = bottom_model.output\n",
        "  top_model = GlobalAveragePooling2D()(top_model)\n",
        "  top_model = Dense(1024, activation='relu')(top_model)\n",
        "  top_model = Dense(512, activation='relu')(top_model)\n",
        "  top_model = Dense(num_classes, activation='softmax')(top_model)\n",
        "  return top_model \n"
      ],
      "execution_count": 54,
      "outputs": []
    },
    {
      "cell_type": "code",
      "metadata": {
        "id": "2jA1DXUgQSzX",
        "execution": {
          "iopub.status.busy": "2021-11-19T10:44:49.014001Z",
          "iopub.execute_input": "2021-11-19T10:44:49.014675Z",
          "iopub.status.idle": "2021-11-19T10:44:49.037874Z",
          "shell.execute_reply.started": "2021-11-19T10:44:49.014639Z",
          "shell.execute_reply": "2021-11-19T10:44:49.036806Z"
        },
        "trusted": true
      },
      "source": [
        "num_classes = 7\n",
        "FC_Head = layer_adder(model, num_classes)\n",
        "model = Model(inputs = model.input, outputs = FC_Head)\n"
      ],
      "execution_count": 55,
      "outputs": []
    },
    {
      "cell_type": "code",
      "source": [
        "print(model.summary())"
      ],
      "metadata": {
        "colab": {
          "base_uri": "https://localhost:8080/"
        },
        "id": "GpGA6IP3TzzG",
        "outputId": "f950cd90-bd14-4821-8929-184600aa26ab"
      },
      "execution_count": 56,
      "outputs": [
        {
          "output_type": "stream",
          "name": "stdout",
          "text": [
            "Model: \"model_2\"\n",
            "_________________________________________________________________\n",
            " Layer (type)                Output Shape              Param #   \n",
            "=================================================================\n",
            " input_5 (InputLayer)        [(None, 224, 224, 3)]     0         \n",
            "                                                                 \n",
            " block1_conv1 (Conv2D)       (None, 224, 224, 64)      1792      \n",
            "                                                                 \n",
            " block1_conv2 (Conv2D)       (None, 224, 224, 64)      36928     \n",
            "                                                                 \n",
            " block1_pool (MaxPooling2D)  (None, 112, 112, 64)      0         \n",
            "                                                                 \n",
            " block2_conv1 (Conv2D)       (None, 112, 112, 128)     73856     \n",
            "                                                                 \n",
            " block2_conv2 (Conv2D)       (None, 112, 112, 128)     147584    \n",
            "                                                                 \n",
            " block2_pool (MaxPooling2D)  (None, 56, 56, 128)       0         \n",
            "                                                                 \n",
            " block3_conv1 (Conv2D)       (None, 56, 56, 256)       295168    \n",
            "                                                                 \n",
            " block3_conv2 (Conv2D)       (None, 56, 56, 256)       590080    \n",
            "                                                                 \n",
            " block3_conv3 (Conv2D)       (None, 56, 56, 256)       590080    \n",
            "                                                                 \n",
            " block3_pool (MaxPooling2D)  (None, 28, 28, 256)       0         \n",
            "                                                                 \n",
            " block4_conv1 (Conv2D)       (None, 28, 28, 512)       1180160   \n",
            "                                                                 \n",
            " block4_conv2 (Conv2D)       (None, 28, 28, 512)       2359808   \n",
            "                                                                 \n",
            " block4_conv3 (Conv2D)       (None, 28, 28, 512)       2359808   \n",
            "                                                                 \n",
            " block4_pool (MaxPooling2D)  (None, 14, 14, 512)       0         \n",
            "                                                                 \n",
            " block5_conv1 (Conv2D)       (None, 14, 14, 512)       2359808   \n",
            "                                                                 \n",
            " block5_conv2 (Conv2D)       (None, 14, 14, 512)       2359808   \n",
            "                                                                 \n",
            " block5_conv3 (Conv2D)       (None, 14, 14, 512)       2359808   \n",
            "                                                                 \n",
            " block5_pool (MaxPooling2D)  (None, 7, 7, 512)         0         \n",
            "                                                                 \n",
            " global_average_pooling2d_10  (None, 512)              0         \n",
            "  (GlobalAveragePooling2D)                                       \n",
            "                                                                 \n",
            " dense_7 (Dense)             (None, 1024)              525312    \n",
            "                                                                 \n",
            " dense_8 (Dense)             (None, 512)               524800    \n",
            "                                                                 \n",
            " dense_9 (Dense)             (None, 7)                 3591      \n",
            "                                                                 \n",
            "=================================================================\n",
            "Total params: 15,768,391\n",
            "Trainable params: 1,053,703\n",
            "Non-trainable params: 14,714,688\n",
            "_________________________________________________________________\n",
            "None\n"
          ]
        }
      ]
    },
    {
      "cell_type": "code",
      "source": [
        "from keras.preprocessing.image import ImageDataGenerator\n",
        "\n",
        "train_data_dir = \"../content/MaskedDataset/train\"\n",
        "validation_data_dir = \"../content/MaskedDataset/test\"\n",
        "\n",
        "train_datagen = ImageDataGenerator(rescale = 1./255, rotation_range=20, width_shift_range =0.3, height_shift_range =0.3,  horizontal_flip=True, fill_mode = 'nearest')\n",
        "validation_datagen = ImageDataGenerator(rescale = 1./255)\n",
        "\n",
        "batch_size = 1\n",
        "\n",
        "train_generator = train_datagen.flow_from_directory(\n",
        "        train_data_dir,\n",
        "        target_size=(img_rows, img_cols),\n",
        "        batch_size=batch_size ,\n",
        "        class_mode='categorical')\n",
        "\n",
        "validation_generator = validation_datagen.flow_from_directory(\n",
        "         validation_data_dir,\n",
        "        target_size=(img_rows, img_cols),\n",
        "        batch_size=batch_size,\n",
        "        class_mode='categorical') \n"
      ],
      "metadata": {
        "colab": {
          "base_uri": "https://localhost:8080/"
        },
        "id": "1-8lfSoHTGg0",
        "outputId": "b58d4fed-75ac-4c01-82a3-4b07956559bd"
      },
      "execution_count": 57,
      "outputs": [
        {
          "output_type": "stream",
          "name": "stdout",
          "text": [
            "Found 49 images belonging to 7 classes.\n",
            "Found 19 images belonging to 7 classes.\n"
          ]
        }
      ]
    },
    {
      "cell_type": "code",
      "source": [
        "from tensorflow.keras.optimizers import Adam\n",
        "from tensorflow.keras.callbacks import ModelCheckpoint, EarlyStopping, ReduceLROnPlateau\n",
        "\n",
        "checkpoint = ModelCheckpoint(\"face_detector.h15\", monitor = \"val_loss\", mode =\"min\", save_best_only = True, verbose=1)\n",
        "#checkpoint = ModelCheckpoint(\"face_detector.h15\", monitor='val_accuracy', verbose=1, save_best_only=True, mode='max')\n",
        "#learn_control = ReduceLROnPlateau(monitor='val_loss', patience=5,verbose=1,factor=0.2, min_lr=1e-7)\n",
        "earlystop = EarlyStopping(monitor = \"val_loss\", min_delta = 0, patience =3, verbose=1, restore_best_weights = True)\n",
        "\n",
        "callbacks = [checkpoint ,earlystop]\n",
        "\n",
        "model.compile(\n",
        "    loss='categorical_crossentropy',\n",
        "    optimizer='Adam',\n",
        "    metrics=['accuracy'])\n",
        "epochs = 10\n",
        "batch_size = 2\n",
        "history = model.fit_generator(train_generator, epochs = epochs, callbacks = callbacks, validation_data = validation_generator)\n"
      ],
      "metadata": {
        "colab": {
          "base_uri": "https://localhost:8080/"
        },
        "id": "lebpRx65TGi6",
        "outputId": "ce5f01f6-7591-4d00-dfd8-d96e1d683df0"
      },
      "execution_count": 63,
      "outputs": [
        {
          "output_type": "stream",
          "name": "stderr",
          "text": [
            "/usr/local/lib/python3.7/dist-packages/ipykernel_launcher.py:17: UserWarning: `Model.fit_generator` is deprecated and will be removed in a future version. Please use `Model.fit`, which supports generators.\n"
          ]
        },
        {
          "output_type": "stream",
          "name": "stdout",
          "text": [
            "Epoch 1/10\n",
            "49/49 [==============================] - ETA: 0s - loss: 0.3869 - accuracy: 0.8571\n",
            "Epoch 00001: val_loss improved from inf to 1.78931, saving model to face_detector.h15\n",
            "INFO:tensorflow:Assets written to: face_detector.h15/assets\n",
            "49/49 [==============================] - 32s 627ms/step - loss: 0.3869 - accuracy: 0.8571 - val_loss: 1.7893 - val_accuracy: 0.4211\n",
            "Epoch 2/10\n",
            "49/49 [==============================] - ETA: 0s - loss: 0.2653 - accuracy: 0.9184\n",
            "Epoch 00002: val_loss improved from 1.78931 to 0.67871, saving model to face_detector.h15\n",
            "INFO:tensorflow:Assets written to: face_detector.h15/assets\n",
            "49/49 [==============================] - 30s 623ms/step - loss: 0.2653 - accuracy: 0.9184 - val_loss: 0.6787 - val_accuracy: 0.6316\n",
            "Epoch 3/10\n",
            "49/49 [==============================] - ETA: 0s - loss: 0.3715 - accuracy: 0.9184\n",
            "Epoch 00003: val_loss did not improve from 0.67871\n",
            "49/49 [==============================] - 28s 564ms/step - loss: 0.3715 - accuracy: 0.9184 - val_loss: 0.7114 - val_accuracy: 0.7368\n",
            "Epoch 4/10\n",
            "49/49 [==============================] - ETA: 0s - loss: 0.3178 - accuracy: 0.8980\n",
            "Epoch 00004: val_loss did not improve from 0.67871\n",
            "49/49 [==============================] - 27s 563ms/step - loss: 0.3178 - accuracy: 0.8980 - val_loss: 1.9553 - val_accuracy: 0.4737\n",
            "Epoch 5/10\n",
            "49/49 [==============================] - ETA: 0s - loss: 0.2055 - accuracy: 0.9388\n",
            "Epoch 00005: val_loss did not improve from 0.67871\n",
            "Restoring model weights from the end of the best epoch: 2.\n",
            "49/49 [==============================] - 28s 562ms/step - loss: 0.2055 - accuracy: 0.9388 - val_loss: 1.1341 - val_accuracy: 0.6842\n",
            "Epoch 00005: early stopping\n"
          ]
        }
      ]
    },
    {
      "cell_type": "code",
      "source": [
        ""
      ],
      "metadata": {
        "id": "1-VA02wLTGmW"
      },
      "execution_count": null,
      "outputs": []
    },
    {
      "cell_type": "code",
      "metadata": {
        "id": "uhpDQ5rgQTBr",
        "execution": {
          "iopub.status.busy": "2021-11-19T10:44:50.010376Z",
          "iopub.execute_input": "2021-11-19T10:44:50.010651Z",
          "iopub.status.idle": "2021-11-19T10:44:50.025903Z",
          "shell.execute_reply.started": "2021-11-19T10:44:50.010622Z",
          "shell.execute_reply": "2021-11-19T10:44:50.024928Z"
        },
        "trusted": true
      },
      "source": [
        ""
      ],
      "execution_count": 57,
      "outputs": []
    },
    {
      "cell_type": "code",
      "metadata": {
        "id": "RTiYUMCeN5Tx",
        "execution": {
          "iopub.status.busy": "2021-11-19T10:44:51.803796Z",
          "iopub.execute_input": "2021-11-19T10:44:51.804482Z",
          "iopub.status.idle": "2021-11-19T10:44:52.021999Z",
          "shell.execute_reply.started": "2021-11-19T10:44:51.804419Z",
          "shell.execute_reply": "2021-11-19T10:44:52.021211Z"
        },
        "trusted": true
      },
      "source": [
        ""
      ],
      "execution_count": 57,
      "outputs": []
    },
    {
      "cell_type": "code",
      "metadata": {
        "id": "_waxKwrA7RAd"
      },
      "source": [
        ""
      ],
      "execution_count": 11,
      "outputs": []
    },
    {
      "cell_type": "code",
      "metadata": {
        "id": "cXT2TA3KQdpM",
        "execution": {
          "iopub.status.busy": "2021-11-19T10:44:55.051478Z",
          "iopub.execute_input": "2021-11-19T10:44:55.051870Z",
          "iopub.status.idle": "2021-11-19T10:45:19.972287Z",
          "shell.execute_reply.started": "2021-11-19T10:44:55.051838Z",
          "shell.execute_reply": "2021-11-19T10:45:19.971569Z"
        },
        "trusted": true
      },
      "source": [
        ""
      ],
      "execution_count": 57,
      "outputs": []
    },
    {
      "cell_type": "code",
      "metadata": {
        "colab": {
          "base_uri": "https://localhost:8080/"
        },
        "id": "bl4Tc1s-7dW4",
        "outputId": "79287a01-a9c1-4b72-e777-9595f0565ed5"
      },
      "source": [
        "model.save('finalmodel.h5')"
      ],
      "execution_count": null,
      "outputs": [
        {
          "output_type": "stream",
          "name": "stderr",
          "text": [
            "/usr/local/lib/python3.7/dist-packages/keras/engine/functional.py:1410: CustomMaskWarning: Custom mask layers require a config and must override get_config. When loading, the custom mask layer must be passed to the custom_objects argument.\n",
            "  layer_config = serialize_layer_fn(layer)\n"
          ]
        }
      ]
    },
    {
      "cell_type": "code",
      "metadata": {
        "execution": {
          "iopub.status.busy": "2021-11-19T10:45:38.972011Z",
          "iopub.execute_input": "2021-11-19T10:45:38.972323Z",
          "iopub.status.idle": "2021-11-19T10:45:38.980990Z",
          "shell.execute_reply.started": "2021-11-19T10:45:38.972287Z",
          "shell.execute_reply": "2021-11-19T10:45:38.980200Z"
        },
        "trusted": true,
        "colab": {
          "base_uri": "https://localhost:8080/"
        },
        "id": "mPSiVwHv1Mmc",
        "outputId": "b50f8e83-e6c6-4c8a-d15c-a10d16148952"
      },
      "source": [
        "history.history"
      ],
      "execution_count": null,
      "outputs": [
        {
          "output_type": "execute_result",
          "data": {
            "text/plain": [
              "{'accuracy': [0.5319148898124695,\n",
              "  0.7765957713127136,\n",
              "  0.8500000238418579,\n",
              "  0.800000011920929,\n",
              "  0.8399999737739563,\n",
              "  0.8936170339584351,\n",
              "  0.9399999976158142,\n",
              "  0.8799999952316284,\n",
              "  0.8936170339584351,\n",
              "  0.8999999761581421,\n",
              "  0.9468085169792175,\n",
              "  0.9200000166893005,\n",
              "  0.9399999976158142,\n",
              "  0.9399999976158142,\n",
              "  0.914893627166748,\n",
              "  0.9599999785423279,\n",
              "  0.9700000286102295,\n",
              "  0.9700000286102295,\n",
              "  0.978723406791687,\n",
              "  0.9800000190734863],\n",
              " 'loss': [1.1437873840332031,\n",
              "  0.6084012985229492,\n",
              "  0.3877345323562622,\n",
              "  0.4162746071815491,\n",
              "  0.3575408160686493,\n",
              "  0.31270211935043335,\n",
              "  0.18080845475196838,\n",
              "  0.2760348618030548,\n",
              "  0.2297581136226654,\n",
              "  0.22369569540023804,\n",
              "  0.16458623111248016,\n",
              "  0.19906730949878693,\n",
              "  0.145508274435997,\n",
              "  0.12392524629831314,\n",
              "  0.1529962122440338,\n",
              "  0.0943770483136177,\n",
              "  0.08142649382352829,\n",
              "  0.08179038017988205,\n",
              "  0.07894442230463028,\n",
              "  0.036513444036245346],\n",
              " 'lr': [1e-04,\n",
              "  1e-04,\n",
              "  1e-04,\n",
              "  1e-04,\n",
              "  1e-04,\n",
              "  1e-04,\n",
              "  1e-04,\n",
              "  1e-04,\n",
              "  1e-04,\n",
              "  1e-04,\n",
              "  2e-05,\n",
              "  2e-05,\n",
              "  2e-05,\n",
              "  2e-05,\n",
              "  2e-05,\n",
              "  4e-06,\n",
              "  4e-06,\n",
              "  4e-06,\n",
              "  4e-06,\n",
              "  4e-06],\n",
              " 'val_accuracy': [0.6600000262260437,\n",
              "  0.7599999904632568,\n",
              "  0.7799999713897705,\n",
              "  0.8600000143051147,\n",
              "  0.8899999856948853,\n",
              "  0.8799999952316284,\n",
              "  0.8999999761581421,\n",
              "  0.8700000047683716,\n",
              "  0.8399999737739563,\n",
              "  0.8199999928474426,\n",
              "  0.8799999952316284,\n",
              "  0.8500000238418579,\n",
              "  0.8500000238418579,\n",
              "  0.8700000047683716,\n",
              "  0.8899999856948853,\n",
              "  0.8999999761581421,\n",
              "  0.8600000143051147,\n",
              "  0.8399999737739563,\n",
              "  0.8500000238418579,\n",
              "  0.8299999833106995],\n",
              " 'val_loss': [0.8072580099105835,\n",
              "  0.7175285816192627,\n",
              "  0.7118655443191528,\n",
              "  0.4285089075565338,\n",
              "  0.2770160734653473,\n",
              "  0.45826902985572815,\n",
              "  0.3902762234210968,\n",
              "  0.4589933156967163,\n",
              "  0.5235698223114014,\n",
              "  0.6386503577232361,\n",
              "  0.3940010070800781,\n",
              "  0.424275279045105,\n",
              "  0.38097473978996277,\n",
              "  0.3818955719470978,\n",
              "  0.39985156059265137,\n",
              "  0.3538760244846344,\n",
              "  0.4826940894126892,\n",
              "  0.5038952827453613,\n",
              "  0.42621123790740967,\n",
              "  0.49209272861480713]}"
            ]
          },
          "metadata": {},
          "execution_count": 14
        }
      ]
    },
    {
      "cell_type": "code",
      "metadata": {
        "id": "Bl6ieM7GQfzO",
        "execution": {
          "iopub.status.busy": "2021-11-19T10:45:44.405982Z",
          "iopub.execute_input": "2021-11-19T10:45:44.406810Z",
          "iopub.status.idle": "2021-11-19T10:45:44.928670Z",
          "shell.execute_reply.started": "2021-11-19T10:45:44.406754Z",
          "shell.execute_reply": "2021-11-19T10:45:44.927864Z"
        },
        "trusted": true,
        "colab": {
          "base_uri": "https://localhost:8080/",
          "height": 276
        },
        "outputId": "0940e1ed-0118-43c0-f857-a58b81385cb7"
      },
      "source": [
        "plt.figure(1, figsize = (15,8)) \n",
        "    \n",
        "plt.subplot(221)  \n",
        "plt.plot(history.history['accuracy'])  \n",
        "plt.plot(history.history['val_accuracy'])  \n",
        "plt.title('model accuracy')  \n",
        "plt.ylabel('accuracy')  \n",
        "plt.xlabel('epoch')  \n",
        "plt.legend(['train', 'valid']) \n",
        "    \n",
        "plt.subplot(222)  \n",
        "plt.plot(history.history['loss'])  \n",
        "plt.plot(history.history['val_loss'])  \n",
        "plt.title('model loss')  \n",
        "plt.ylabel('loss')  \n",
        "plt.xlabel('epoch')  \n",
        "plt.legend(['train', 'valid']) \n",
        "\n",
        "plt.show()"
      ],
      "execution_count": null,
      "outputs": [
        {
          "output_type": "display_data",
          "data": {
            "image/png": "[encoded data removed]",
            "text/plain": [
              "<Figure size 1080x576 with 2 Axes>"
            ]
          },
          "metadata": {
            "needs_background": "light"
          }
        }
      ]
    },
    {
      "cell_type": "code",
      "metadata": {
        "id": "8P7bW6iRPimA"
      },
      "source": [
        ""
      ],
      "execution_count": null,
      "outputs": []
    },
    {
      "cell_type": "markdown",
      "metadata": {
        "id": "K7uqp_5b2xmy"
      },
      "source": [
        ""
      ]
    }
  ]
}